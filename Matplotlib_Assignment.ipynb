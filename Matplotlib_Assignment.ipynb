{
 "cells": [
  {
   "cell_type": "markdown",
   "id": "d1d13b12",
   "metadata": {},
   "source": [
    "### 1. Using the given data, write a program to:\n",
    "- Plot a simple line graph showing monthly sales over the five months.\n",
    "- Create a bar chart showing the number of customers visited each month.\n",
    "- Plot a scatter graph showing the relationship between marketing spend and sales.\n",
    "- Generate 100 random profit values (using a normal distribution with mean 3 and standard deviation 2) and plot a histogram.\n",
    "- Create a pie chart representing the percentage of sales for each month.\n"
   ]
  },
  {
   "cell_type": "code",
   "execution_count": null,
   "id": "ff5e639b",
   "metadata": {},
   "outputs": [],
   "source": [
    "import numpy as np\n",
    "import matplotlib.pyplot as plt\n",
    "\n",
    "# Data\n",
    "months = ['Jan', 'Feb', 'Mar', 'Apr', 'May']\n",
    "sales = [10, 15, 8, 18, 12]\n",
    "customers = [150, 200, 120, 250, 170]\n",
    "marketing_spend = [3, 5, 2, 6, 4]\n",
    "\n",
    "# Line Graph - Sales over months\n",
    "plt.figure(figsize=(8, 5))\n",
    "plt.plot(months, sales, marker='o', linestyle='-', color='b', label=\"Sales\")\n",
    "plt.xlabel('Months')\n",
    "plt.ylabel('Sales ($1000)')\n",
    "plt.title('Monthly Sales')\n",
    "plt.legend()\n",
    "plt.show()\n",
    "\n",
    "# Bar Chart - Customers visited each month\n",
    "plt.figure(figsize=(8, 5))\n",
    "plt.bar(months, customers, color='g', alpha=0.7)\n",
    "plt.xlabel('Months')\n",
    "plt.ylabel('Customers Visited')\n",
    "plt.title('Number of Customers Visited per Month')\n",
    "plt.show()\n",
    "\n",
    "# Scatter Plot - Marketing Spend vs. Sales\n",
    "plt.figure(figsize=(8, 5))\n",
    "plt.scatter(marketing_spend, sales, color='r', marker='o')\n",
    "plt.xlabel('Marketing Spend ($1000)')\n",
    "plt.ylabel('Sales ($1000)')\n",
    "plt.title('Marketing Spend vs. Sales')\n",
    "plt.show()\n",
    "\n",
    "# Histogram - Random Profit Values\n",
    "profit_values = np.random.normal(3, 2, 100)\n",
    "plt.figure(figsize=(8, 5))\n",
    "plt.hist(profit_values, bins=10, color='purple', alpha=0.7, edgecolor='black')\n",
    "plt.xlabel('Profit ($1000)')\n",
    "plt.ylabel('Frequency')\n",
    "plt.title('Distribution of Profit Values')\n",
    "plt.show()\n",
    "\n",
    "# Pie Chart - Sales percentage per month\n",
    "plt.figure(figsize=(8, 5))\n",
    "plt.pie(sales, labels=months, autopct='%1.1f%%', colors=['blue', 'green', 'red', 'purple', 'orange'])\n",
    "plt.title('Sales Percentage per Month')\n",
    "plt.show()\n"
   ]
  },
  {
   "cell_type": "markdown",
   "id": "898205cb",
   "metadata": {},
   "source": [
    "### 2. A company wants to compare the sales of three different products over 12 months. Create a line chart showing the sales trend and customize it with labels, grid, and a title."
   ]
  },
  {
   "cell_type": "code",
   "execution_count": null,
   "id": "4e268700",
   "metadata": {},
   "outputs": [],
   "source": [
    "import matplotlib.pyplot as plt\n",
    "\n",
    "# Data\n",
    "months = [f'Month {i}' for i in range(1, 13)]\n",
    "product1 = [5, 7, 8, 10, 12, 14, 16, 15, 14, 13, 12, 11]\n",
    "product2 = [3, 5, 6, 8, 9, 10, 11, 12, 13, 14, 15, 16]\n",
    "product3 = [6, 8, 10, 12, 14, 16, 18, 20, 19, 18, 17, 16]\n",
    "\n",
    "# Line Graph\n",
    "plt.figure(figsize=(10, 5))\n",
    "plt.plot(months, product1, marker='o', linestyle='-', label=\"Product 1\", color='b')\n",
    "plt.plot(months, product2, marker='s', linestyle='--', label=\"Product 2\", color='r')\n",
    "plt.plot(months, product3, marker='d', linestyle='-.', label=\"Product 3\", color='g')\n",
    "\n",
    "# Customization\n",
    "plt.xlabel('Months')\n",
    "plt.ylabel('Sales ($1000)')\n",
    "plt.title('Sales Trends of Three Products')\n",
    "plt.xticks(rotation=45)\n",
    "plt.legend()\n",
    "plt.grid(True)\n",
    "plt.show()\n"
   ]
  },
  {
   "cell_type": "markdown",
   "id": "851ca93d",
   "metadata": {},
   "source": [
    "### 3. A sports analyst wants to analyze the performance of five cricket players based on their runs scored in the last 10 matches. Use a bar chart to visualize the data."
   ]
  },
  {
   "cell_type": "code",
   "execution_count": null,
   "id": "7a1d0f5a",
   "metadata": {},
   "outputs": [],
   "source": [
    "import numpy as np\n",
    "import matplotlib.pyplot as plt\n",
    "\n",
    "# Data\n",
    "players = ['Player A', 'Player B', 'Player C', 'Player D', 'Player E']\n",
    "runs = [450, 520, 490, 480, 510]\n",
    "\n",
    "# Bar Chart\n",
    "plt.figure(figsize=(8, 5))\n",
    "plt.bar(players, runs, color=['blue', 'green', 'red', 'purple', 'orange'])\n",
    "plt.xlabel('Players')\n",
    "plt.ylabel('Total Runs')\n",
    "plt.title('Cricket Players Performance')\n",
    "plt.show()\n"
   ]
  },
  {
   "cell_type": "markdown",
   "id": "525cb4d2",
   "metadata": {},
   "source": [
    "### 4. A school wants to analyze the distribution of student grades (A, B, C, D, F) from exam results. Create a pie chart to represent the percentage of students in each grade category."
   ]
  },
  {
   "cell_type": "code",
   "execution_count": null,
   "id": "93da515c",
   "metadata": {},
   "outputs": [],
   "source": [
    "import matplotlib.pyplot as plt\n",
    "\n",
    "# Data\n",
    "grades = ['A', 'B', 'C', 'D', 'F']\n",
    "students = [40, 30, 20, 10, 5]\n",
    "\n",
    "# Pie Chart\n",
    "plt.figure(figsize=(8, 5))\n",
    "plt.pie(students, labels=grades, autopct='%1.1f%%', colors=['blue', 'green', 'red', 'purple', 'orange'])\n",
    "plt.title('Grade Distribution')\n",
    "plt.show()\n"
   ]
  },
  {
   "cell_type": "markdown",
   "id": "f2815e2a",
   "metadata": {},
   "source": [
    "### 5. A data scientist wants to visualize the relationship between house prices and their square footage. Use a scatter plot with different colors for different price ranges."
   ]
  },
  {
   "cell_type": "code",
   "execution_count": null,
   "id": "88f54e64",
   "metadata": {},
   "outputs": [],
   "source": [
    "import matplotlib.pyplot as plt\n",
    "\n",
    "# Data\n",
    "square_feet = [1000, 1500, 2000, 2500, 3000, 3500, 4000]\n",
    "house_prices = [150, 200, 250, 300, 350, 400, 450]\n",
    "\n",
    "# Scatter Plot\n",
    "plt.figure(figsize=(8, 5))\n",
    "plt.scatter(square_feet, house_prices, c=house_prices, cmap='viridis', marker='o', edgecolors='black')\n",
    "plt.xlabel('Square Footage')\n",
    "plt.ylabel('House Price ($1000)')\n",
    "plt.title('House Prices vs. Square Footage')\n",
    "plt.colorbar(label='Price ($1000)')\n",
    "plt.show()\n"
   ]
  }
 ],
 "metadata": {},
 "nbformat": 4,
 "nbformat_minor": 5
}